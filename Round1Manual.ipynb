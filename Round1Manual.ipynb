{
  "nbformat": 4,
  "nbformat_minor": 0,
  "metadata": {
    "colab": {
      "provenance": [],
      "authorship_tag": "ABX9TyOVXgUuBnpdYM4sdBA/k71P",
      "include_colab_link": true
    },
    "kernelspec": {
      "name": "python3",
      "display_name": "Python 3"
    },
    "language_info": {
      "name": "python"
    }
  },
  "cells": [
    {
      "cell_type": "markdown",
      "metadata": {
        "id": "view-in-github",
        "colab_type": "text"
      },
      "source": [
        "<a href=\"https://colab.research.google.com/github/rohan-gogate/rohan-gogate/blob/main/Round1Manual.ipynb\" target=\"_parent\"><img src=\"https://colab.research.google.com/assets/colab-badge.svg\" alt=\"Open In Colab\"/></a>"
      ]
    },
    {
      "cell_type": "code",
      "execution_count": null,
      "metadata": {
        "colab": {
          "base_uri": "https://localhost:8080/"
        },
        "id": "pvV9VTKhDbvb",
        "outputId": "8c441923-f128-4583-d2cf-0645c0a66970"
      },
      "outputs": [
        {
          "output_type": "execute_result",
          "data": {
            "text/plain": [
              "(1.08868032,\n",
              " ['SeaShells',\n",
              "  'Snowballs',\n",
              "  'Silicon Nuggets',\n",
              "  'Pizzas',\n",
              "  'Snowballs',\n",
              "  'SeaShells'])"
            ]
          },
          "metadata": {},
          "execution_count": 10
        }
      ],
      "source": [
        "import itertools\n",
        "\n",
        "currencies = [\"Snowballs\",\"Pizzas\",\"Silicon Nuggets\",\"SeaShells\"]\n",
        "exchange_rates = [\n",
        "    [1, 1.45, 0.52, 0.72],\n",
        "    [0.7, 1, 0.31, 0.48],\n",
        "    [1.95, 3.1, 1, 1.49],\n",
        "    [1.34, 1.98, 0.64, 1],\n",
        "]\n",
        "\n",
        "currency_idx = {name: i for i, name in enumerate(currencies)}\n",
        "start_currency = \"SeaShells\"\n",
        "start_index = currency_idx[start_currency]\n",
        "\n",
        "max_trades = 5\n",
        "best_profit = 0\n",
        "best_path = []\n",
        "\n",
        "def dfs(current, amount, path, trades_left):\n",
        "  global best_profit, best_path\n",
        "  if trades_left == 0:\n",
        "    if current == start_index:\n",
        "      if amount > best_profit:\n",
        "        best_profit = amount\n",
        "        best_path = path[:]\n",
        "    return\n",
        "\n",
        "  for next_currency in range(4):\n",
        "    if next_currency != current or current == start_index:\n",
        "      rate = exchange_rates[current][next_currency]\n",
        "      path.append(next_currency)\n",
        "      dfs(next_currency, amount*rate, path, trades_left-1)\n",
        "      path.pop()\n",
        "\n",
        "dfs(start_index, 1, [start_index], 5)\n",
        "best_path_named = [currencies[i] for i in best_path]\n",
        "best_profit, best_path_named\n",
        "\n"
      ]
    }
  ]
}